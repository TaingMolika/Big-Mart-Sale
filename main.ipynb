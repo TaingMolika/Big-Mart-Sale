{
 "cells": [
  {
   "cell_type": "markdown",
   "metadata": {},
   "source": [
    "## Import Library"
   ]
  },
  {
   "cell_type": "code",
   "execution_count": 64,
   "metadata": {},
   "outputs": [],
   "source": [
    "import pandas as pd\n",
    "import numpy as np\n",
    "import seaborn as sns\n",
    "import matplotlib.pyplot as plt\n",
    "from IPython.display import HTML\n",
    "sns.set()\n",
    "from scipy.stats import mode\n",
    "from sklearn.preprocessing import LabelEncoder"
   ]
  },
  {
   "cell_type": "markdown",
   "metadata": {},
   "source": [
    "## Load data"
   ]
  },
  {
   "cell_type": "markdown",
   "metadata": {},
   "source": [
    "### Data Info\n",
    "The data scientists at BigMart have collected 2013 sales data for 1559 products across 10 stores in different cities. Also, certain attributes of each product and store have been defined. The aim is to build a predictive model and predict the sales of each product at a particular outlet."
   ]
  },
  {
   "cell_type": "code",
   "execution_count": 2,
   "metadata": {},
   "outputs": [
    {
     "data": {
      "text/html": [
       "\n",
       "<!DOCTYPE html>\n",
       "<html lang=\"en\">\n",
       "<head>\n",
       "    <meta charset=\"UTF-8\">\n",
       "    <meta name=\"viewport\" content=\"width=device-width, initial-scale=1.0\">\n",
       "    <title>Product Information Table</title>\n",
       "    <style>\n",
       "        body {\n",
       "            font-family: Arial, sans-serif;\n",
       "        }\n",
       "\n",
       "        table {\n",
       "            width: 100%;\n",
       "            border-collapse: collapse;\n",
       "            margin-top: 20px;\n",
       "        }\n",
       "\n",
       "        th, td {\n",
       "            border: 1px solid #dddddd;\n",
       "            text-align: left;\n",
       "            padding: 8px;\n",
       "        }\n",
       "\n",
       "        th {\n",
       "            background-color: #009EFF;\n",
       "        }\n",
       "\n",
       "        th {\n",
       "            background-color: #f2f2f2;\n",
       "            font-weight: bold;\n",
       "            color: black;\n",
       "        }\n",
       "    </style>\n",
       "</head>\n",
       "<body>\n",
       "\n",
       "    <h2>Product Information Table</h2>\n",
       "    \n",
       "    <table>\n",
       "        <tr>\n",
       "            <th>Variable</th>\n",
       "            <th>Description</th>\n",
       "        </tr>\n",
       "        <tr>\n",
       "            <td>Item_Weight</td>\n",
       "            <td>Weight of product</td>\n",
       "        </tr>\n",
       "        <tr>\n",
       "            <td>Item_Fat_Content</td>\n",
       "            <td>Whether the product is low fat or not</td>\n",
       "        </tr>\n",
       "        <tr>\n",
       "            <td>Item_Visibility</td>\n",
       "            <td>The percent of the total display area of all products in a store allocated to the particular product</td>\n",
       "        </tr>\n",
       "        <tr>\n",
       "            <td>Item_Type</td>\n",
       "            <td>The category to which the product belongs</td>\n",
       "        </tr>\n",
       "        <tr>\n",
       "            <td>Item_MRP</td>\n",
       "            <td>Maximum Retail Price (list price) of the product</td>\n",
       "        </tr>\n",
       "        <tr>\n",
       "            <td>Outlet_Identifier</td>\n",
       "            <td>Unique store ID</td>\n",
       "        </tr>\n",
       "        <tr>\n",
       "            <td>Outlet_Establishment_Year</td>\n",
       "            <td>The year in which the store was established</td>\n",
       "        </tr>\n",
       "        <tr>\n",
       "            <td>Outlet_Size </td>\n",
       "            <td>The size of the store in terms of ground area covered</td>\n",
       "        </tr>\n",
       "        <tr>\n",
       "            <td>Outlet_Location_Type </td>\n",
       "            <td>The type of city in which the store is located</td>\n",
       "        </tr>\n",
       "        <tr>\n",
       "            <td>Outlet_Type</td>\n",
       "            <td>Whether the outlet is just a grocery store or some sort of supermarket</td>\n",
       "        </tr>\n",
       "        <tr>\n",
       "            <td>Item_Outlet_Sales</td>\n",
       "            <td>Sales of the product in a particular store. This is the outcome variable to be predicted.</td>\n",
       "        </tr>\n",
       "        <tr>\n",
       "            <td>Item_Outlet_Sales</td>\n",
       "            <td>Sales of the product in a particular store. This is the outcome variable to be predicted.</td>\n",
       "        </tr>\n",
       "    </table>\n",
       "\n",
       "</body>\n",
       "</html>\n"
      ],
      "text/plain": [
       "<IPython.core.display.HTML object>"
      ]
     },
     "execution_count": 2,
     "metadata": {},
     "output_type": "execute_result"
    }
   ],
   "source": [
    "from IPython.display import HTML\n",
    "\n",
    "html_code = \"\"\"\n",
    "<!DOCTYPE html>\n",
    "<html lang=\"en\">\n",
    "<head>\n",
    "    <meta charset=\"UTF-8\">\n",
    "    <meta name=\"viewport\" content=\"width=device-width, initial-scale=1.0\">\n",
    "    <title>Product Information Table</title>\n",
    "    <style>\n",
    "        body {\n",
    "            font-family: Arial, sans-serif;\n",
    "        }\n",
    "\n",
    "        table {\n",
    "            width: 100%;\n",
    "            border-collapse: collapse;\n",
    "            margin-top: 20px;\n",
    "        }\n",
    "\n",
    "        th, td {\n",
    "            border: 1px solid #dddddd;\n",
    "            text-align: left;\n",
    "            padding: 8px;\n",
    "        }\n",
    "\n",
    "        th {\n",
    "            background-color: #009EFF;\n",
    "        }\n",
    "\n",
    "        th {\n",
    "            background-color: #f2f2f2;\n",
    "            font-weight: bold;\n",
    "            color: black;\n",
    "        }\n",
    "    </style>\n",
    "</head>\n",
    "<body>\n",
    "\n",
    "    <h2>Product Information Table</h2>\n",
    "    \n",
    "    <table>\n",
    "        <tr>\n",
    "            <th>Variable</th>\n",
    "            <th>Description</th>\n",
    "        </tr>\n",
    "        <tr>\n",
    "            <td>Item_Weight</td>\n",
    "            <td>Weight of product</td>\n",
    "        </tr>\n",
    "        <tr>\n",
    "            <td>Item_Fat_Content</td>\n",
    "            <td>Whether the product is low fat or not</td>\n",
    "        </tr>\n",
    "        <tr>\n",
    "            <td>Item_Visibility</td>\n",
    "            <td>The percent of the total display area of all products in a store allocated to the particular product</td>\n",
    "        </tr>\n",
    "        <tr>\n",
    "            <td>Item_Type</td>\n",
    "            <td>The category to which the product belongs</td>\n",
    "        </tr>\n",
    "        <tr>\n",
    "            <td>Item_MRP</td>\n",
    "            <td>Maximum Retail Price (list price) of the product</td>\n",
    "        </tr>\n",
    "        <tr>\n",
    "            <td>Outlet_Identifier</td>\n",
    "            <td>Unique store ID</td>\n",
    "        </tr>\n",
    "        <tr>\n",
    "            <td>Outlet_Establishment_Year</td>\n",
    "            <td>The year in which the store was established</td>\n",
    "        </tr>\n",
    "        <tr>\n",
    "            <td>Outlet_Size </td>\n",
    "            <td>The size of the store in terms of ground area covered</td>\n",
    "        </tr>\n",
    "        <tr>\n",
    "            <td>Outlet_Location_Type </td>\n",
    "            <td>The type of city in which the store is located</td>\n",
    "        </tr>\n",
    "        <tr>\n",
    "            <td>Outlet_Type</td>\n",
    "            <td>Whether the outlet is just a grocery store or some sort of supermarket</td>\n",
    "        </tr>\n",
    "        <tr>\n",
    "            <td>Item_Outlet_Sales</td>\n",
    "            <td>Sales of the product in a particular store. This is the outcome variable to be predicted.</td>\n",
    "        </tr>\n",
    "        <tr>\n",
    "            <td>Item_Outlet_Sales</td>\n",
    "            <td>Sales of the product in a particular store. This is the outcome variable to be predicted.</td>\n",
    "        </tr>\n",
    "    </table>\n",
    "\n",
    "</body>\n",
    "</html>\n",
    "\"\"\"\n",
    "\n",
    "# Display the HTML code\n",
    "HTML(html_code)\n"
   ]
  },
  {
   "cell_type": "code",
   "execution_count": 3,
   "metadata": {},
   "outputs": [
    {
     "data": {
      "text/html": [
       "<div>\n",
       "<style scoped>\n",
       "    .dataframe tbody tr th:only-of-type {\n",
       "        vertical-align: middle;\n",
       "    }\n",
       "\n",
       "    .dataframe tbody tr th {\n",
       "        vertical-align: top;\n",
       "    }\n",
       "\n",
       "    .dataframe thead th {\n",
       "        text-align: right;\n",
       "    }\n",
       "</style>\n",
       "<table border=\"1\" class=\"dataframe\">\n",
       "  <thead>\n",
       "    <tr style=\"text-align: right;\">\n",
       "      <th></th>\n",
       "      <th>Item_Identifier</th>\n",
       "      <th>Item_Weight</th>\n",
       "      <th>Item_Fat_Content</th>\n",
       "      <th>Item_Visibility</th>\n",
       "      <th>Item_Type</th>\n",
       "      <th>Item_MRP</th>\n",
       "      <th>Outlet_Identifier</th>\n",
       "      <th>Outlet_Establishment_Year</th>\n",
       "      <th>Outlet_Size</th>\n",
       "      <th>Outlet_Location_Type</th>\n",
       "      <th>Outlet_Type</th>\n",
       "      <th>Item_Outlet_Sales</th>\n",
       "    </tr>\n",
       "  </thead>\n",
       "  <tbody>\n",
       "    <tr>\n",
       "      <th>0</th>\n",
       "      <td>FDA15</td>\n",
       "      <td>9.30</td>\n",
       "      <td>Low Fat</td>\n",
       "      <td>0.016047</td>\n",
       "      <td>Dairy</td>\n",
       "      <td>249.8092</td>\n",
       "      <td>OUT049</td>\n",
       "      <td>1999</td>\n",
       "      <td>Medium</td>\n",
       "      <td>Tier 1</td>\n",
       "      <td>Supermarket Type1</td>\n",
       "      <td>3735.1380</td>\n",
       "    </tr>\n",
       "    <tr>\n",
       "      <th>1</th>\n",
       "      <td>DRC01</td>\n",
       "      <td>5.92</td>\n",
       "      <td>Regular</td>\n",
       "      <td>0.019278</td>\n",
       "      <td>Soft Drinks</td>\n",
       "      <td>48.2692</td>\n",
       "      <td>OUT018</td>\n",
       "      <td>2009</td>\n",
       "      <td>Medium</td>\n",
       "      <td>Tier 3</td>\n",
       "      <td>Supermarket Type2</td>\n",
       "      <td>443.4228</td>\n",
       "    </tr>\n",
       "    <tr>\n",
       "      <th>2</th>\n",
       "      <td>FDN15</td>\n",
       "      <td>17.50</td>\n",
       "      <td>Low Fat</td>\n",
       "      <td>0.016760</td>\n",
       "      <td>Meat</td>\n",
       "      <td>141.6180</td>\n",
       "      <td>OUT049</td>\n",
       "      <td>1999</td>\n",
       "      <td>Medium</td>\n",
       "      <td>Tier 1</td>\n",
       "      <td>Supermarket Type1</td>\n",
       "      <td>2097.2700</td>\n",
       "    </tr>\n",
       "    <tr>\n",
       "      <th>3</th>\n",
       "      <td>FDX07</td>\n",
       "      <td>19.20</td>\n",
       "      <td>Regular</td>\n",
       "      <td>0.000000</td>\n",
       "      <td>Fruits and Vegetables</td>\n",
       "      <td>182.0950</td>\n",
       "      <td>OUT010</td>\n",
       "      <td>1998</td>\n",
       "      <td>NaN</td>\n",
       "      <td>Tier 3</td>\n",
       "      <td>Grocery Store</td>\n",
       "      <td>732.3800</td>\n",
       "    </tr>\n",
       "    <tr>\n",
       "      <th>4</th>\n",
       "      <td>NCD19</td>\n",
       "      <td>8.93</td>\n",
       "      <td>Low Fat</td>\n",
       "      <td>0.000000</td>\n",
       "      <td>Household</td>\n",
       "      <td>53.8614</td>\n",
       "      <td>OUT013</td>\n",
       "      <td>1987</td>\n",
       "      <td>High</td>\n",
       "      <td>Tier 3</td>\n",
       "      <td>Supermarket Type1</td>\n",
       "      <td>994.7052</td>\n",
       "    </tr>\n",
       "  </tbody>\n",
       "</table>\n",
       "</div>"
      ],
      "text/plain": [
       "  Item_Identifier  Item_Weight Item_Fat_Content  Item_Visibility   \n",
       "0           FDA15         9.30          Low Fat         0.016047  \\\n",
       "1           DRC01         5.92          Regular         0.019278   \n",
       "2           FDN15        17.50          Low Fat         0.016760   \n",
       "3           FDX07        19.20          Regular         0.000000   \n",
       "4           NCD19         8.93          Low Fat         0.000000   \n",
       "\n",
       "               Item_Type  Item_MRP Outlet_Identifier   \n",
       "0                  Dairy  249.8092            OUT049  \\\n",
       "1            Soft Drinks   48.2692            OUT018   \n",
       "2                   Meat  141.6180            OUT049   \n",
       "3  Fruits and Vegetables  182.0950            OUT010   \n",
       "4              Household   53.8614            OUT013   \n",
       "\n",
       "   Outlet_Establishment_Year Outlet_Size Outlet_Location_Type   \n",
       "0                       1999      Medium               Tier 1  \\\n",
       "1                       2009      Medium               Tier 3   \n",
       "2                       1999      Medium               Tier 1   \n",
       "3                       1998         NaN               Tier 3   \n",
       "4                       1987        High               Tier 3   \n",
       "\n",
       "         Outlet_Type  Item_Outlet_Sales  \n",
       "0  Supermarket Type1          3735.1380  \n",
       "1  Supermarket Type2           443.4228  \n",
       "2  Supermarket Type1          2097.2700  \n",
       "3      Grocery Store           732.3800  \n",
       "4  Supermarket Type1           994.7052  "
      ]
     },
     "execution_count": 3,
     "metadata": {},
     "output_type": "execute_result"
    }
   ],
   "source": [
    "df = pd.read_csv('Train.csv')\n",
    "df.head()"
   ]
  },
  {
   "cell_type": "markdown",
   "metadata": {},
   "source": [
    "## Explore data"
   ]
  },
  {
   "cell_type": "code",
   "execution_count": 4,
   "metadata": {},
   "outputs": [
    {
     "data": {
      "text/plain": [
       "(8523, 12)"
      ]
     },
     "execution_count": 4,
     "metadata": {},
     "output_type": "execute_result"
    }
   ],
   "source": [
    "df.shape"
   ]
  },
  {
   "cell_type": "code",
   "execution_count": 5,
   "metadata": {},
   "outputs": [
    {
     "data": {
      "text/plain": [
       "Index(['Item_Identifier', 'Item_Weight', 'Item_Fat_Content', 'Item_Visibility',\n",
       "       'Item_Type', 'Item_MRP', 'Outlet_Identifier',\n",
       "       'Outlet_Establishment_Year', 'Outlet_Size', 'Outlet_Location_Type',\n",
       "       'Outlet_Type', 'Item_Outlet_Sales'],\n",
       "      dtype='object')"
      ]
     },
     "execution_count": 5,
     "metadata": {},
     "output_type": "execute_result"
    }
   ],
   "source": [
    "df.columns"
   ]
  },
  {
   "cell_type": "code",
   "execution_count": 6,
   "metadata": {},
   "outputs": [
    {
     "name": "stdout",
     "output_type": "stream",
     "text": [
      "<class 'pandas.core.frame.DataFrame'>\n",
      "RangeIndex: 8523 entries, 0 to 8522\n",
      "Data columns (total 12 columns):\n",
      " #   Column                     Non-Null Count  Dtype  \n",
      "---  ------                     --------------  -----  \n",
      " 0   Item_Identifier            8523 non-null   object \n",
      " 1   Item_Weight                7060 non-null   float64\n",
      " 2   Item_Fat_Content           8523 non-null   object \n",
      " 3   Item_Visibility            8523 non-null   float64\n",
      " 4   Item_Type                  8523 non-null   object \n",
      " 5   Item_MRP                   8523 non-null   float64\n",
      " 6   Outlet_Identifier          8523 non-null   object \n",
      " 7   Outlet_Establishment_Year  8523 non-null   int64  \n",
      " 8   Outlet_Size                6113 non-null   object \n",
      " 9   Outlet_Location_Type       8523 non-null   object \n",
      " 10  Outlet_Type                8523 non-null   object \n",
      " 11  Item_Outlet_Sales          8523 non-null   float64\n",
      "dtypes: float64(4), int64(1), object(7)\n",
      "memory usage: 799.2+ KB\n"
     ]
    }
   ],
   "source": [
    "df.info()"
   ]
  },
  {
   "cell_type": "code",
   "execution_count": 7,
   "metadata": {},
   "outputs": [
    {
     "data": {
      "text/html": [
       "<div>\n",
       "<style scoped>\n",
       "    .dataframe tbody tr th:only-of-type {\n",
       "        vertical-align: middle;\n",
       "    }\n",
       "\n",
       "    .dataframe tbody tr th {\n",
       "        vertical-align: top;\n",
       "    }\n",
       "\n",
       "    .dataframe thead th {\n",
       "        text-align: right;\n",
       "    }\n",
       "</style>\n",
       "<table border=\"1\" class=\"dataframe\">\n",
       "  <thead>\n",
       "    <tr style=\"text-align: right;\">\n",
       "      <th></th>\n",
       "      <th>Item_Identifier</th>\n",
       "      <th>Item_Weight</th>\n",
       "      <th>Item_Fat_Content</th>\n",
       "      <th>Item_Visibility</th>\n",
       "      <th>Item_Type</th>\n",
       "      <th>Item_MRP</th>\n",
       "      <th>Outlet_Identifier</th>\n",
       "      <th>Outlet_Establishment_Year</th>\n",
       "      <th>Outlet_Size</th>\n",
       "      <th>Outlet_Location_Type</th>\n",
       "      <th>Outlet_Type</th>\n",
       "      <th>Item_Outlet_Sales</th>\n",
       "    </tr>\n",
       "  </thead>\n",
       "  <tbody>\n",
       "    <tr>\n",
       "      <th>count</th>\n",
       "      <td>8523</td>\n",
       "      <td>7060.000000</td>\n",
       "      <td>8523</td>\n",
       "      <td>8523.000000</td>\n",
       "      <td>8523</td>\n",
       "      <td>8523.000000</td>\n",
       "      <td>8523</td>\n",
       "      <td>8523.000000</td>\n",
       "      <td>6113</td>\n",
       "      <td>8523</td>\n",
       "      <td>8523</td>\n",
       "      <td>8523.000000</td>\n",
       "    </tr>\n",
       "    <tr>\n",
       "      <th>unique</th>\n",
       "      <td>1559</td>\n",
       "      <td>NaN</td>\n",
       "      <td>5</td>\n",
       "      <td>NaN</td>\n",
       "      <td>16</td>\n",
       "      <td>NaN</td>\n",
       "      <td>10</td>\n",
       "      <td>NaN</td>\n",
       "      <td>3</td>\n",
       "      <td>3</td>\n",
       "      <td>4</td>\n",
       "      <td>NaN</td>\n",
       "    </tr>\n",
       "    <tr>\n",
       "      <th>top</th>\n",
       "      <td>FDW13</td>\n",
       "      <td>NaN</td>\n",
       "      <td>Low Fat</td>\n",
       "      <td>NaN</td>\n",
       "      <td>Fruits and Vegetables</td>\n",
       "      <td>NaN</td>\n",
       "      <td>OUT027</td>\n",
       "      <td>NaN</td>\n",
       "      <td>Medium</td>\n",
       "      <td>Tier 3</td>\n",
       "      <td>Supermarket Type1</td>\n",
       "      <td>NaN</td>\n",
       "    </tr>\n",
       "    <tr>\n",
       "      <th>freq</th>\n",
       "      <td>10</td>\n",
       "      <td>NaN</td>\n",
       "      <td>5089</td>\n",
       "      <td>NaN</td>\n",
       "      <td>1232</td>\n",
       "      <td>NaN</td>\n",
       "      <td>935</td>\n",
       "      <td>NaN</td>\n",
       "      <td>2793</td>\n",
       "      <td>3350</td>\n",
       "      <td>5577</td>\n",
       "      <td>NaN</td>\n",
       "    </tr>\n",
       "    <tr>\n",
       "      <th>mean</th>\n",
       "      <td>NaN</td>\n",
       "      <td>12.857645</td>\n",
       "      <td>NaN</td>\n",
       "      <td>0.066132</td>\n",
       "      <td>NaN</td>\n",
       "      <td>140.992782</td>\n",
       "      <td>NaN</td>\n",
       "      <td>1997.831867</td>\n",
       "      <td>NaN</td>\n",
       "      <td>NaN</td>\n",
       "      <td>NaN</td>\n",
       "      <td>2181.288914</td>\n",
       "    </tr>\n",
       "    <tr>\n",
       "      <th>std</th>\n",
       "      <td>NaN</td>\n",
       "      <td>4.643456</td>\n",
       "      <td>NaN</td>\n",
       "      <td>0.051598</td>\n",
       "      <td>NaN</td>\n",
       "      <td>62.275067</td>\n",
       "      <td>NaN</td>\n",
       "      <td>8.371760</td>\n",
       "      <td>NaN</td>\n",
       "      <td>NaN</td>\n",
       "      <td>NaN</td>\n",
       "      <td>1706.499616</td>\n",
       "    </tr>\n",
       "    <tr>\n",
       "      <th>min</th>\n",
       "      <td>NaN</td>\n",
       "      <td>4.555000</td>\n",
       "      <td>NaN</td>\n",
       "      <td>0.000000</td>\n",
       "      <td>NaN</td>\n",
       "      <td>31.290000</td>\n",
       "      <td>NaN</td>\n",
       "      <td>1985.000000</td>\n",
       "      <td>NaN</td>\n",
       "      <td>NaN</td>\n",
       "      <td>NaN</td>\n",
       "      <td>33.290000</td>\n",
       "    </tr>\n",
       "    <tr>\n",
       "      <th>25%</th>\n",
       "      <td>NaN</td>\n",
       "      <td>8.773750</td>\n",
       "      <td>NaN</td>\n",
       "      <td>0.026989</td>\n",
       "      <td>NaN</td>\n",
       "      <td>93.826500</td>\n",
       "      <td>NaN</td>\n",
       "      <td>1987.000000</td>\n",
       "      <td>NaN</td>\n",
       "      <td>NaN</td>\n",
       "      <td>NaN</td>\n",
       "      <td>834.247400</td>\n",
       "    </tr>\n",
       "    <tr>\n",
       "      <th>50%</th>\n",
       "      <td>NaN</td>\n",
       "      <td>12.600000</td>\n",
       "      <td>NaN</td>\n",
       "      <td>0.053931</td>\n",
       "      <td>NaN</td>\n",
       "      <td>143.012800</td>\n",
       "      <td>NaN</td>\n",
       "      <td>1999.000000</td>\n",
       "      <td>NaN</td>\n",
       "      <td>NaN</td>\n",
       "      <td>NaN</td>\n",
       "      <td>1794.331000</td>\n",
       "    </tr>\n",
       "    <tr>\n",
       "      <th>75%</th>\n",
       "      <td>NaN</td>\n",
       "      <td>16.850000</td>\n",
       "      <td>NaN</td>\n",
       "      <td>0.094585</td>\n",
       "      <td>NaN</td>\n",
       "      <td>185.643700</td>\n",
       "      <td>NaN</td>\n",
       "      <td>2004.000000</td>\n",
       "      <td>NaN</td>\n",
       "      <td>NaN</td>\n",
       "      <td>NaN</td>\n",
       "      <td>3101.296400</td>\n",
       "    </tr>\n",
       "    <tr>\n",
       "      <th>max</th>\n",
       "      <td>NaN</td>\n",
       "      <td>21.350000</td>\n",
       "      <td>NaN</td>\n",
       "      <td>0.328391</td>\n",
       "      <td>NaN</td>\n",
       "      <td>266.888400</td>\n",
       "      <td>NaN</td>\n",
       "      <td>2009.000000</td>\n",
       "      <td>NaN</td>\n",
       "      <td>NaN</td>\n",
       "      <td>NaN</td>\n",
       "      <td>13086.964800</td>\n",
       "    </tr>\n",
       "  </tbody>\n",
       "</table>\n",
       "</div>"
      ],
      "text/plain": [
       "       Item_Identifier  Item_Weight Item_Fat_Content  Item_Visibility   \n",
       "count             8523  7060.000000             8523      8523.000000  \\\n",
       "unique            1559          NaN                5              NaN   \n",
       "top              FDW13          NaN          Low Fat              NaN   \n",
       "freq                10          NaN             5089              NaN   \n",
       "mean               NaN    12.857645              NaN         0.066132   \n",
       "std                NaN     4.643456              NaN         0.051598   \n",
       "min                NaN     4.555000              NaN         0.000000   \n",
       "25%                NaN     8.773750              NaN         0.026989   \n",
       "50%                NaN    12.600000              NaN         0.053931   \n",
       "75%                NaN    16.850000              NaN         0.094585   \n",
       "max                NaN    21.350000              NaN         0.328391   \n",
       "\n",
       "                    Item_Type     Item_MRP Outlet_Identifier   \n",
       "count                    8523  8523.000000              8523  \\\n",
       "unique                     16          NaN                10   \n",
       "top     Fruits and Vegetables          NaN            OUT027   \n",
       "freq                     1232          NaN               935   \n",
       "mean                      NaN   140.992782               NaN   \n",
       "std                       NaN    62.275067               NaN   \n",
       "min                       NaN    31.290000               NaN   \n",
       "25%                       NaN    93.826500               NaN   \n",
       "50%                       NaN   143.012800               NaN   \n",
       "75%                       NaN   185.643700               NaN   \n",
       "max                       NaN   266.888400               NaN   \n",
       "\n",
       "        Outlet_Establishment_Year Outlet_Size Outlet_Location_Type   \n",
       "count                 8523.000000        6113                 8523  \\\n",
       "unique                        NaN           3                    3   \n",
       "top                           NaN      Medium               Tier 3   \n",
       "freq                          NaN        2793                 3350   \n",
       "mean                  1997.831867         NaN                  NaN   \n",
       "std                      8.371760         NaN                  NaN   \n",
       "min                   1985.000000         NaN                  NaN   \n",
       "25%                   1987.000000         NaN                  NaN   \n",
       "50%                   1999.000000         NaN                  NaN   \n",
       "75%                   2004.000000         NaN                  NaN   \n",
       "max                   2009.000000         NaN                  NaN   \n",
       "\n",
       "              Outlet_Type  Item_Outlet_Sales  \n",
       "count                8523        8523.000000  \n",
       "unique                  4                NaN  \n",
       "top     Supermarket Type1                NaN  \n",
       "freq                 5577                NaN  \n",
       "mean                  NaN        2181.288914  \n",
       "std                   NaN        1706.499616  \n",
       "min                   NaN          33.290000  \n",
       "25%                   NaN         834.247400  \n",
       "50%                   NaN        1794.331000  \n",
       "75%                   NaN        3101.296400  \n",
       "max                   NaN       13086.964800  "
      ]
     },
     "execution_count": 7,
     "metadata": {},
     "output_type": "execute_result"
    }
   ],
   "source": [
    "df.describe(include='all')"
   ]
  },
  {
   "cell_type": "code",
   "execution_count": 8,
   "metadata": {},
   "outputs": [
    {
     "data": {
      "text/html": [
       "<div>\n",
       "<style scoped>\n",
       "    .dataframe tbody tr th:only-of-type {\n",
       "        vertical-align: middle;\n",
       "    }\n",
       "\n",
       "    .dataframe tbody tr th {\n",
       "        vertical-align: top;\n",
       "    }\n",
       "\n",
       "    .dataframe thead th {\n",
       "        text-align: right;\n",
       "    }\n",
       "</style>\n",
       "<table border=\"1\" class=\"dataframe\">\n",
       "  <thead>\n",
       "    <tr style=\"text-align: right;\">\n",
       "      <th></th>\n",
       "      <th>Item_Weight</th>\n",
       "      <th>Item_Visibility</th>\n",
       "      <th>Item_MRP</th>\n",
       "      <th>Outlet_Establishment_Year</th>\n",
       "      <th>Item_Outlet_Sales</th>\n",
       "    </tr>\n",
       "  </thead>\n",
       "  <tbody>\n",
       "    <tr>\n",
       "      <th>count</th>\n",
       "      <td>7060.000000</td>\n",
       "      <td>8523.000000</td>\n",
       "      <td>8523.000000</td>\n",
       "      <td>8523.000000</td>\n",
       "      <td>8523.000000</td>\n",
       "    </tr>\n",
       "    <tr>\n",
       "      <th>mean</th>\n",
       "      <td>12.857645</td>\n",
       "      <td>0.066132</td>\n",
       "      <td>140.992782</td>\n",
       "      <td>1997.831867</td>\n",
       "      <td>2181.288914</td>\n",
       "    </tr>\n",
       "    <tr>\n",
       "      <th>std</th>\n",
       "      <td>4.643456</td>\n",
       "      <td>0.051598</td>\n",
       "      <td>62.275067</td>\n",
       "      <td>8.371760</td>\n",
       "      <td>1706.499616</td>\n",
       "    </tr>\n",
       "    <tr>\n",
       "      <th>min</th>\n",
       "      <td>4.555000</td>\n",
       "      <td>0.000000</td>\n",
       "      <td>31.290000</td>\n",
       "      <td>1985.000000</td>\n",
       "      <td>33.290000</td>\n",
       "    </tr>\n",
       "    <tr>\n",
       "      <th>25%</th>\n",
       "      <td>8.773750</td>\n",
       "      <td>0.026989</td>\n",
       "      <td>93.826500</td>\n",
       "      <td>1987.000000</td>\n",
       "      <td>834.247400</td>\n",
       "    </tr>\n",
       "    <tr>\n",
       "      <th>50%</th>\n",
       "      <td>12.600000</td>\n",
       "      <td>0.053931</td>\n",
       "      <td>143.012800</td>\n",
       "      <td>1999.000000</td>\n",
       "      <td>1794.331000</td>\n",
       "    </tr>\n",
       "    <tr>\n",
       "      <th>75%</th>\n",
       "      <td>16.850000</td>\n",
       "      <td>0.094585</td>\n",
       "      <td>185.643700</td>\n",
       "      <td>2004.000000</td>\n",
       "      <td>3101.296400</td>\n",
       "    </tr>\n",
       "    <tr>\n",
       "      <th>max</th>\n",
       "      <td>21.350000</td>\n",
       "      <td>0.328391</td>\n",
       "      <td>266.888400</td>\n",
       "      <td>2009.000000</td>\n",
       "      <td>13086.964800</td>\n",
       "    </tr>\n",
       "  </tbody>\n",
       "</table>\n",
       "</div>"
      ],
      "text/plain": [
       "       Item_Weight  Item_Visibility     Item_MRP  Outlet_Establishment_Year   \n",
       "count  7060.000000      8523.000000  8523.000000                8523.000000  \\\n",
       "mean     12.857645         0.066132   140.992782                1997.831867   \n",
       "std       4.643456         0.051598    62.275067                   8.371760   \n",
       "min       4.555000         0.000000    31.290000                1985.000000   \n",
       "25%       8.773750         0.026989    93.826500                1987.000000   \n",
       "50%      12.600000         0.053931   143.012800                1999.000000   \n",
       "75%      16.850000         0.094585   185.643700                2004.000000   \n",
       "max      21.350000         0.328391   266.888400                2009.000000   \n",
       "\n",
       "       Item_Outlet_Sales  \n",
       "count        8523.000000  \n",
       "mean         2181.288914  \n",
       "std          1706.499616  \n",
       "min            33.290000  \n",
       "25%           834.247400  \n",
       "50%          1794.331000  \n",
       "75%          3101.296400  \n",
       "max         13086.964800  "
      ]
     },
     "execution_count": 8,
     "metadata": {},
     "output_type": "execute_result"
    }
   ],
   "source": [
    "df.describe()"
   ]
  },
  {
   "cell_type": "code",
   "execution_count": 9,
   "metadata": {},
   "outputs": [
    {
     "data": {
      "text/plain": [
       "Item_Identifier                 0\n",
       "Item_Weight                  1463\n",
       "Item_Fat_Content                0\n",
       "Item_Visibility                 0\n",
       "Item_Type                       0\n",
       "Item_MRP                        0\n",
       "Outlet_Identifier               0\n",
       "Outlet_Establishment_Year       0\n",
       "Outlet_Size                  2410\n",
       "Outlet_Location_Type            0\n",
       "Outlet_Type                     0\n",
       "Item_Outlet_Sales               0\n",
       "dtype: int64"
      ]
     },
     "execution_count": 9,
     "metadata": {},
     "output_type": "execute_result"
    }
   ],
   "source": [
    "df.isnull().sum()"
   ]
  },
  {
   "cell_type": "code",
   "execution_count": 10,
   "metadata": {},
   "outputs": [
    {
     "data": {
      "text/plain": [
       "0"
      ]
     },
     "execution_count": 10,
     "metadata": {},
     "output_type": "execute_result"
    }
   ],
   "source": [
    "df.duplicated().sum()"
   ]
  },
  {
   "cell_type": "code",
   "execution_count": 11,
   "metadata": {},
   "outputs": [
    {
     "data": {
      "text/plain": [
       "Item_Identifier              1559\n",
       "Item_Weight                   416\n",
       "Item_Fat_Content                5\n",
       "Item_Visibility              7880\n",
       "Item_Type                      16\n",
       "Item_MRP                     5938\n",
       "Outlet_Identifier              10\n",
       "Outlet_Establishment_Year       9\n",
       "Outlet_Size                     4\n",
       "Outlet_Location_Type            3\n",
       "Outlet_Type                     4\n",
       "Item_Outlet_Sales            3493\n",
       "dtype: int64"
      ]
     },
     "execution_count": 11,
     "metadata": {},
     "output_type": "execute_result"
    }
   ],
   "source": [
    "# Find unique value in each column\n",
    "df.apply(lambda x: len(x.unique()))"
   ]
  },
  {
   "cell_type": "code",
   "execution_count": 12,
   "metadata": {},
   "outputs": [
    {
     "name": "stdout",
     "output_type": "stream",
     "text": [
      "['Item_Identifier', 'Item_Fat_Content', 'Item_Type', 'Outlet_Identifier', 'Outlet_Size', 'Outlet_Location_Type', 'Outlet_Type']\n"
     ]
    }
   ],
   "source": [
    "# check the categories column name\n",
    "categorical_column = [x for x in df.dtypes.index if df.dtypes[x] == 'object']\n",
    "print(categorical_column)"
   ]
  },
  {
   "cell_type": "code",
   "execution_count": 13,
   "metadata": {},
   "outputs": [],
   "source": [
    "categorical_column = [x for x in categorical_column if x in ['Item_Fat_Content', 'Item_Type', 'Outlet_Identifier', 'Outlet_Size', 'Outlet_Location_Type', 'Outlet_Type']]"
   ]
  },
  {
   "cell_type": "code",
   "execution_count": 14,
   "metadata": {},
   "outputs": [
    {
     "name": "stdout",
     "output_type": "stream",
     "text": [
      "\n",
      " Frequency of Categories for variable, Item_Fat_Content\n",
      "Item_Fat_Content\n",
      "Low Fat    5089\n",
      "Regular    2889\n",
      "LF          316\n",
      "reg         117\n",
      "low fat     112\n",
      "Name: count, dtype: int64\n",
      "\n",
      " Frequency of Categories for variable, Item_Type\n",
      "Item_Type\n",
      "Fruits and Vegetables    1232\n",
      "Snack Foods              1200\n",
      "Household                 910\n",
      "Frozen Foods              856\n",
      "Dairy                     682\n",
      "Canned                    649\n",
      "Baking Goods              648\n",
      "Health and Hygiene        520\n",
      "Soft Drinks               445\n",
      "Meat                      425\n",
      "Breads                    251\n",
      "Hard Drinks               214\n",
      "Others                    169\n",
      "Starchy Foods             148\n",
      "Breakfast                 110\n",
      "Seafood                    64\n",
      "Name: count, dtype: int64\n",
      "\n",
      " Frequency of Categories for variable, Outlet_Identifier\n",
      "Outlet_Identifier\n",
      "OUT027    935\n",
      "OUT013    932\n",
      "OUT049    930\n",
      "OUT046    930\n",
      "OUT035    930\n",
      "OUT045    929\n",
      "OUT018    928\n",
      "OUT017    926\n",
      "OUT010    555\n",
      "OUT019    528\n",
      "Name: count, dtype: int64\n",
      "\n",
      " Frequency of Categories for variable, Outlet_Size\n",
      "Outlet_Size\n",
      "Medium    2793\n",
      "Small     2388\n",
      "High       932\n",
      "Name: count, dtype: int64\n",
      "\n",
      " Frequency of Categories for variable, Outlet_Location_Type\n",
      "Outlet_Location_Type\n",
      "Tier 3    3350\n",
      "Tier 2    2785\n",
      "Tier 1    2388\n",
      "Name: count, dtype: int64\n",
      "\n",
      " Frequency of Categories for variable, Outlet_Type\n",
      "Outlet_Type\n",
      "Supermarket Type1    5577\n",
      "Grocery Store        1083\n",
      "Supermarket Type3     935\n",
      "Supermarket Type2     928\n",
      "Name: count, dtype: int64\n"
     ]
    }
   ],
   "source": [
    "# print frequentcy of the data in categories columns\n",
    "for col in categorical_column:\n",
    "    print(f'\\n Frequency of Categories for variable, {col}')\n",
    "    print(df[col].value_counts())"
   ]
  },
  {
   "cell_type": "code",
   "execution_count": 15,
   "metadata": {},
   "outputs": [
    {
     "data": {
      "text/plain": [
       "array(['Low Fat', 'Regular', 'low fat', 'LF', 'reg'], dtype=object)"
      ]
     },
     "execution_count": 15,
     "metadata": {},
     "output_type": "execute_result"
    }
   ],
   "source": [
    "df['Item_Fat_Content'].unique()"
   ]
  },
  {
   "cell_type": "code",
   "execution_count": 16,
   "metadata": {},
   "outputs": [],
   "source": [
    "df.replace({'Item_Fat_Content': {'low fat': 'Low Fat', 'LF': 'Low Fat', 'reg': 'Regular'}}, inplace=True)"
   ]
  },
  {
   "cell_type": "code",
   "execution_count": 17,
   "metadata": {},
   "outputs": [
    {
     "data": {
      "text/plain": [
       "array(['Low Fat', 'Regular'], dtype=object)"
      ]
     },
     "execution_count": 17,
     "metadata": {},
     "output_type": "execute_result"
    }
   ],
   "source": [
    "df['Item_Fat_Content'].unique()"
   ]
  },
  {
   "cell_type": "code",
   "execution_count": 18,
   "metadata": {},
   "outputs": [
    {
     "data": {
      "text/plain": [
       "0    Low Fat\n",
       "Name: Item_Fat_Content, dtype: object"
      ]
     },
     "execution_count": 18,
     "metadata": {},
     "output_type": "execute_result"
    }
   ],
   "source": [
    "df['Item_Fat_Content'].mode()"
   ]
  },
  {
   "cell_type": "code",
   "execution_count": 19,
   "metadata": {},
   "outputs": [],
   "source": [
    "df['Item_Weight'].fillna(df['Item_Weight'].mean(), inplace=True)"
   ]
  },
  {
   "cell_type": "code",
   "execution_count": 20,
   "metadata": {},
   "outputs": [
    {
     "data": {
      "text/plain": [
       "0"
      ]
     },
     "execution_count": 20,
     "metadata": {},
     "output_type": "execute_result"
    }
   ],
   "source": [
    "df['Item_Weight'].isnull().sum()"
   ]
  },
  {
   "cell_type": "code",
   "execution_count": 21,
   "metadata": {},
   "outputs": [
    {
     "data": {
      "text/plain": [
       "array(['Medium', nan, 'High', 'Small'], dtype=object)"
      ]
     },
     "execution_count": 21,
     "metadata": {},
     "output_type": "execute_result"
    }
   ],
   "source": [
    "df['Outlet_Size'].unique()"
   ]
  },
  {
   "cell_type": "code",
   "execution_count": 22,
   "metadata": {},
   "outputs": [
    {
     "data": {
      "text/plain": [
       "2410"
      ]
     },
     "execution_count": 22,
     "metadata": {},
     "output_type": "execute_result"
    }
   ],
   "source": [
    "df['Outlet_Size'].isnull().sum()"
   ]
  },
  {
   "cell_type": "code",
   "execution_count": 35,
   "metadata": {},
   "outputs": [
    {
     "name": "stdout",
     "output_type": "stream",
     "text": [
      "Mode for each Outlet_Type:\n",
      "         Outlet_Type Outlet_Size\n",
      "0      Grocery Store       Small\n",
      "1  Supermarket Type1       Small\n",
      "2  Supermarket Type2      Medium\n",
      "3  Supermarket Type3      Medium\n"
     ]
    }
   ],
   "source": [
    "outlet_size_mode = df.groupby('Outlet_Type')['Outlet_Size'].apply(lambda x: x.mode().iloc[0]).reset_index()\n",
    "print('Mode for each Outlet_Type:')\n",
    "print(outlet_size_mode)"
   ]
  },
  {
   "cell_type": "code",
   "execution_count": 36,
   "metadata": {},
   "outputs": [],
   "source": [
    "#store the null value\n",
    "miss_bool = df['Outlet_Size'].isnull() "
   ]
  },
  {
   "cell_type": "code",
   "execution_count": 38,
   "metadata": {},
   "outputs": [],
   "source": [
    "df.loc[miss_bool, 'Outlet_Size'] = df.loc[miss_bool, 'Outlet_Type'].apply(lambda x: outlet_size_mode[outlet_size_mode['Outlet_Type'] == x]['Outlet_Size'].values[0] if not outlet_size_mode[outlet_size_mode['Outlet_Type'] == x].empty else None)"
   ]
  },
  {
   "cell_type": "code",
   "execution_count": 39,
   "metadata": {},
   "outputs": [
    {
     "data": {
      "text/plain": [
       "0"
      ]
     },
     "execution_count": 39,
     "metadata": {},
     "output_type": "execute_result"
    }
   ],
   "source": [
    "df['Outlet_Size'].isnull().sum()"
   ]
  },
  {
   "cell_type": "code",
   "execution_count": 46,
   "metadata": {},
   "outputs": [
    {
     "data": {
      "text/plain": [
       "['Medium', 'Small', 'High']\n",
       "Categories (3, object): ['High', 'Medium', 'Small']"
      ]
     },
     "execution_count": 46,
     "metadata": {},
     "output_type": "execute_result"
    }
   ],
   "source": [
    "df['Outlet_Size'].unique()"
   ]
  },
  {
   "cell_type": "code",
   "execution_count": 40,
   "metadata": {},
   "outputs": [
    {
     "data": {
      "text/plain": [
       "0    Medium\n",
       "1    Medium\n",
       "2    Medium\n",
       "3     Small\n",
       "4      High\n",
       "Name: Outlet_Size, dtype: category\n",
       "Categories (3, object): ['High', 'Medium', 'Small']"
      ]
     },
     "execution_count": 40,
     "metadata": {},
     "output_type": "execute_result"
    }
   ],
   "source": [
    "df['Outlet_Size'].head()"
   ]
  },
  {
   "cell_type": "code",
   "execution_count": 42,
   "metadata": {},
   "outputs": [
    {
     "data": {
      "text/html": [
       "<div>\n",
       "<style scoped>\n",
       "    .dataframe tbody tr th:only-of-type {\n",
       "        vertical-align: middle;\n",
       "    }\n",
       "\n",
       "    .dataframe tbody tr th {\n",
       "        vertical-align: top;\n",
       "    }\n",
       "\n",
       "    .dataframe thead th {\n",
       "        text-align: right;\n",
       "    }\n",
       "</style>\n",
       "<table border=\"1\" class=\"dataframe\">\n",
       "  <thead>\n",
       "    <tr style=\"text-align: right;\">\n",
       "      <th></th>\n",
       "      <th>Item_Outlet_Sales</th>\n",
       "    </tr>\n",
       "    <tr>\n",
       "      <th>Outlet_Type</th>\n",
       "      <th></th>\n",
       "    </tr>\n",
       "  </thead>\n",
       "  <tbody>\n",
       "    <tr>\n",
       "      <th>Grocery Store</th>\n",
       "      <td>339.828500</td>\n",
       "    </tr>\n",
       "    <tr>\n",
       "      <th>Supermarket Type1</th>\n",
       "      <td>2316.181148</td>\n",
       "    </tr>\n",
       "    <tr>\n",
       "      <th>Supermarket Type2</th>\n",
       "      <td>1995.498739</td>\n",
       "    </tr>\n",
       "    <tr>\n",
       "      <th>Supermarket Type3</th>\n",
       "      <td>3694.038558</td>\n",
       "    </tr>\n",
       "  </tbody>\n",
       "</table>\n",
       "</div>"
      ],
      "text/plain": [
       "                   Item_Outlet_Sales\n",
       "Outlet_Type                         \n",
       "Grocery Store             339.828500\n",
       "Supermarket Type1        2316.181148\n",
       "Supermarket Type2        1995.498739\n",
       "Supermarket Type3        3694.038558"
      ]
     },
     "execution_count": 42,
     "metadata": {},
     "output_type": "execute_result"
    }
   ],
   "source": [
    "df.pivot_table(values='Item_Outlet_Sales', index='Outlet_Type')"
   ]
  },
  {
   "cell_type": "code",
   "execution_count": 43,
   "metadata": {},
   "outputs": [],
   "source": [
    "visibility_avg = df.pivot_table(values='Item_Visibility', index='Item_Identifier')"
   ]
  },
  {
   "cell_type": "code",
   "execution_count": 44,
   "metadata": {},
   "outputs": [
    {
     "data": {
      "text/html": [
       "<div>\n",
       "<style scoped>\n",
       "    .dataframe tbody tr th:only-of-type {\n",
       "        vertical-align: middle;\n",
       "    }\n",
       "\n",
       "    .dataframe tbody tr th {\n",
       "        vertical-align: top;\n",
       "    }\n",
       "\n",
       "    .dataframe thead th {\n",
       "        text-align: right;\n",
       "    }\n",
       "</style>\n",
       "<table border=\"1\" class=\"dataframe\">\n",
       "  <thead>\n",
       "    <tr style=\"text-align: right;\">\n",
       "      <th></th>\n",
       "      <th>Item_Visibility</th>\n",
       "    </tr>\n",
       "    <tr>\n",
       "      <th>Item_Identifier</th>\n",
       "      <th></th>\n",
       "    </tr>\n",
       "  </thead>\n",
       "  <tbody>\n",
       "    <tr>\n",
       "      <th>DRA12</th>\n",
       "      <td>0.031956</td>\n",
       "    </tr>\n",
       "    <tr>\n",
       "      <th>DRA24</th>\n",
       "      <td>0.048062</td>\n",
       "    </tr>\n",
       "    <tr>\n",
       "      <th>DRA59</th>\n",
       "      <td>0.134718</td>\n",
       "    </tr>\n",
       "    <tr>\n",
       "      <th>DRB01</th>\n",
       "      <td>0.082126</td>\n",
       "    </tr>\n",
       "    <tr>\n",
       "      <th>DRB13</th>\n",
       "      <td>0.008002</td>\n",
       "    </tr>\n",
       "    <tr>\n",
       "      <th>...</th>\n",
       "      <td>...</td>\n",
       "    </tr>\n",
       "    <tr>\n",
       "      <th>NCZ30</th>\n",
       "      <td>0.024956</td>\n",
       "    </tr>\n",
       "    <tr>\n",
       "      <th>NCZ41</th>\n",
       "      <td>0.051623</td>\n",
       "    </tr>\n",
       "    <tr>\n",
       "      <th>NCZ42</th>\n",
       "      <td>0.009044</td>\n",
       "    </tr>\n",
       "    <tr>\n",
       "      <th>NCZ53</th>\n",
       "      <td>0.027775</td>\n",
       "    </tr>\n",
       "    <tr>\n",
       "      <th>NCZ54</th>\n",
       "      <td>0.080426</td>\n",
       "    </tr>\n",
       "  </tbody>\n",
       "</table>\n",
       "<p>1559 rows × 1 columns</p>\n",
       "</div>"
      ],
      "text/plain": [
       "                 Item_Visibility\n",
       "Item_Identifier                 \n",
       "DRA12                   0.031956\n",
       "DRA24                   0.048062\n",
       "DRA59                   0.134718\n",
       "DRB01                   0.082126\n",
       "DRB13                   0.008002\n",
       "...                          ...\n",
       "NCZ30                   0.024956\n",
       "NCZ41                   0.051623\n",
       "NCZ42                   0.009044\n",
       "NCZ53                   0.027775\n",
       "NCZ54                   0.080426\n",
       "\n",
       "[1559 rows x 1 columns]"
      ]
     },
     "execution_count": 44,
     "metadata": {},
     "output_type": "execute_result"
    }
   ],
   "source": [
    "visibility_avg"
   ]
  },
  {
   "cell_type": "code",
   "execution_count": 49,
   "metadata": {},
   "outputs": [],
   "source": [
    "# df.loc[miss_bool,'Item_Visibility'] = df.loc[miss_bool,'Item_Identifier'].apply(lambda x: visibility_avg[x])\n",
    "# Get unique 'Item_Identifier' values from the original DataFrame\n",
    "unique_identifiers = df['Item_Identifier'].unique()\n",
    "\n",
    "# Reindex visibility_avg DataFrame with all unique 'Item_Identifier' values\n",
    "visibility_avg = visibility_avg.reindex(unique_identifiers)\n",
    "\n",
    "# Update missing values in 'Item_Visibility' using the reindexed visibility_avg\n",
    "df.loc[miss_bool, 'Item_Visibility'] = df.loc[miss_bool, 'Item_Identifier'].apply(lambda x: visibility_avg.loc[x])\n"
   ]
  },
  {
   "cell_type": "code",
   "execution_count": 60,
   "metadata": {},
   "outputs": [
    {
     "data": {
      "text/html": [
       "<div>\n",
       "<style scoped>\n",
       "    .dataframe tbody tr th:only-of-type {\n",
       "        vertical-align: middle;\n",
       "    }\n",
       "\n",
       "    .dataframe tbody tr th {\n",
       "        vertical-align: top;\n",
       "    }\n",
       "\n",
       "    .dataframe thead th {\n",
       "        text-align: right;\n",
       "    }\n",
       "</style>\n",
       "<table border=\"1\" class=\"dataframe\">\n",
       "  <thead>\n",
       "    <tr style=\"text-align: right;\">\n",
       "      <th></th>\n",
       "      <th>Item_Visibility</th>\n",
       "    </tr>\n",
       "  </thead>\n",
       "  <tbody>\n",
       "    <tr>\n",
       "      <th>count</th>\n",
       "      <td>1559.000000</td>\n",
       "    </tr>\n",
       "    <tr>\n",
       "      <th>mean</th>\n",
       "      <td>0.065683</td>\n",
       "    </tr>\n",
       "    <tr>\n",
       "      <th>std</th>\n",
       "      <td>0.044555</td>\n",
       "    </tr>\n",
       "    <tr>\n",
       "      <th>min</th>\n",
       "      <td>0.003981</td>\n",
       "    </tr>\n",
       "    <tr>\n",
       "      <th>25%</th>\n",
       "      <td>0.030381</td>\n",
       "    </tr>\n",
       "    <tr>\n",
       "      <th>50%</th>\n",
       "      <td>0.054441</td>\n",
       "    </tr>\n",
       "    <tr>\n",
       "      <th>75%</th>\n",
       "      <td>0.092977</td>\n",
       "    </tr>\n",
       "    <tr>\n",
       "      <th>max</th>\n",
       "      <td>0.223469</td>\n",
       "    </tr>\n",
       "  </tbody>\n",
       "</table>\n",
       "</div>"
      ],
      "text/plain": [
       "       Item_Visibility\n",
       "count      1559.000000\n",
       "mean          0.065683\n",
       "std           0.044555\n",
       "min           0.003981\n",
       "25%           0.030381\n",
       "50%           0.054441\n",
       "75%           0.092977\n",
       "max           0.223469"
      ]
     },
     "execution_count": 60,
     "metadata": {},
     "output_type": "execute_result"
    }
   ],
   "source": [
    "visibility_avg.describe()"
   ]
  },
  {
   "cell_type": "code",
   "execution_count": 59,
   "metadata": {},
   "outputs": [
    {
     "name": "stdout",
     "output_type": "stream",
     "text": [
      "count    8523.000000\n",
      "mean        0.983330\n",
      "std         0.281186\n",
      "min         0.000000\n",
      "25%         0.909311\n",
      "50%         1.000000\n",
      "75%         1.001117\n",
      "max         2.336970\n",
      "Name: Item_Visibility_MeanRatio, dtype: float64\n"
     ]
    }
   ],
   "source": [
    "# Get unique 'Item_Identifier' values from the original DataFrame\n",
    "unique_identifiers = df['Item_Identifier'].unique()\n",
    "\n",
    "# Reindex visibility_avg DataFrame with all unique 'Item_Identifier' values\n",
    "visibility_avg = visibility_avg.reindex(unique_identifiers)\n",
    "\n",
    "# Calculate 'Item_Visibility_MeanRatio' for each row\n",
    "df['Item_Visibility_MeanRatio'] = df.apply(lambda x: x['Item_Visibility']/visibility_avg.loc[x['Item_Identifier']], axis=1)\n",
    "\n",
    "# Display summary statistics of 'Item_Visibility_MeanRatio'\n",
    "print(df['Item_Visibility_MeanRatio'].describe())\n"
   ]
  },
  {
   "cell_type": "code",
   "execution_count": 61,
   "metadata": {},
   "outputs": [
    {
     "data": {
      "text/plain": [
       "Item_Type_Combined\n",
       "Food              6125\n",
       "Non-Consumable    1599\n",
       "Drinks             799\n",
       "Name: count, dtype: int64"
      ]
     },
     "execution_count": 61,
     "metadata": {},
     "output_type": "execute_result"
    }
   ],
   "source": [
    "#Create a broad category of Type of Item\n",
    "#Get the first two characters of ID:\n",
    "df['Item_Type_Combined'] = df['Item_Identifier'].apply(lambda x: x[0:2])\n",
    "#Rename them to more intuitive categories:\n",
    "df['Item_Type_Combined'] = df['Item_Type_Combined'].map({'FD':'Food',\n",
    "                                                             'NC':'Non-Consumable',\n",
    "                                                             'DR':'Drinks'})\n",
    "df['Item_Type_Combined'].value_counts()"
   ]
  },
  {
   "cell_type": "code",
   "execution_count": 62,
   "metadata": {},
   "outputs": [
    {
     "data": {
      "text/plain": [
       "count    8523.000000\n",
       "mean       15.168133\n",
       "std         8.371760\n",
       "min         4.000000\n",
       "25%         9.000000\n",
       "50%        14.000000\n",
       "75%        26.000000\n",
       "max        28.000000\n",
       "Name: Outlet_Years, dtype: float64"
      ]
     },
     "execution_count": 62,
     "metadata": {},
     "output_type": "execute_result"
    }
   ],
   "source": [
    "#Determine the years of operation of a store\n",
    "df['Outlet_Years'] = 2013 - df['Outlet_Establishment_Year']\n",
    "df['Outlet_Years'].describe()"
   ]
  },
  {
   "cell_type": "code",
   "execution_count": 63,
   "metadata": {},
   "outputs": [
    {
     "data": {
      "text/plain": [
       "Item_Fat_Content\n",
       "Low Fat       3918\n",
       "Regular       3006\n",
       "Non-Edible    1599\n",
       "Name: count, dtype: int64"
      ]
     },
     "execution_count": 63,
     "metadata": {},
     "output_type": "execute_result"
    }
   ],
   "source": [
    "#Mark non-consumables as separate category in low_fat:\n",
    "df.loc[df['Item_Type_Combined']==\"Non-Consumable\",'Item_Fat_Content'] = \"Non-Edible\"\n",
    "df['Item_Fat_Content'].value_counts()"
   ]
  },
  {
   "cell_type": "code",
   "execution_count": 65,
   "metadata": {},
   "outputs": [],
   "source": [
    "#Numerical and One-Hot Coding of Categorical variables\n",
    "le = LabelEncoder()\n",
    "#New variable for outlet\n",
    "df['Outlet'] = le.fit_transform(df['Outlet_Identifier'])\n",
    "var_mod = ['Item_Fat_Content','Outlet_Location_Type','Outlet_Size','Item_Type_Combined','Outlet_Type','Outlet']\n",
    "le = LabelEncoder()\n",
    "for i in var_mod:\n",
    "    df[i] = le.fit_transform(df[i])"
   ]
  },
  {
   "cell_type": "code",
   "execution_count": 66,
   "metadata": {},
   "outputs": [],
   "source": [
    "data = pd.get_dummies(df, columns=['Item_Fat_Content','Outlet_Location_Type','Outlet_Size','Outlet_Type',\n",
    "                              'Item_Type_Combined','Outlet'])"
   ]
  },
  {
   "cell_type": "code",
   "execution_count": 67,
   "metadata": {},
   "outputs": [
    {
     "data": {
      "text/plain": [
       "Item_Identifier               object\n",
       "Item_Weight                  float64\n",
       "Item_Fat_Content               int64\n",
       "Item_Visibility              float64\n",
       "Item_Type                     object\n",
       "Item_MRP                     float64\n",
       "Outlet_Identifier             object\n",
       "Outlet_Establishment_Year      int64\n",
       "Outlet_Size                    int64\n",
       "Outlet_Location_Type           int64\n",
       "Outlet_Type                    int64\n",
       "Item_Outlet_Sales            float64\n",
       "Item_Visibility_MeanRatio    float64\n",
       "Item_Type_Combined             int64\n",
       "Outlet_Years                   int64\n",
       "Outlet                         int64\n",
       "dtype: object"
      ]
     },
     "execution_count": 67,
     "metadata": {},
     "output_type": "execute_result"
    }
   ],
   "source": [
    "df.dtypes"
   ]
  },
  {
   "cell_type": "code",
   "execution_count": 68,
   "metadata": {},
   "outputs": [
    {
     "ename": "KeyError",
     "evalue": "'source'",
     "output_type": "error",
     "traceback": [
      "\u001b[0;31m---------------------------------------------------------------------------\u001b[0m",
      "\u001b[0;31mKeyError\u001b[0m                                  Traceback (most recent call last)",
      "File \u001b[0;32m/Library/Frameworks/Python.framework/Versions/3.11/lib/python3.11/site-packages/pandas/core/indexes/base.py:3652\u001b[0m, in \u001b[0;36mIndex.get_loc\u001b[0;34m(self, key)\u001b[0m\n\u001b[1;32m   3651\u001b[0m \u001b[39mtry\u001b[39;00m:\n\u001b[0;32m-> 3652\u001b[0m     \u001b[39mreturn\u001b[39;00m \u001b[39mself\u001b[39;49m\u001b[39m.\u001b[39;49m_engine\u001b[39m.\u001b[39;49mget_loc(casted_key)\n\u001b[1;32m   3653\u001b[0m \u001b[39mexcept\u001b[39;00m \u001b[39mKeyError\u001b[39;00m \u001b[39mas\u001b[39;00m err:\n",
      "File \u001b[0;32m/Library/Frameworks/Python.framework/Versions/3.11/lib/python3.11/site-packages/pandas/_libs/index.pyx:147\u001b[0m, in \u001b[0;36mpandas._libs.index.IndexEngine.get_loc\u001b[0;34m()\u001b[0m\n",
      "File \u001b[0;32m/Library/Frameworks/Python.framework/Versions/3.11/lib/python3.11/site-packages/pandas/_libs/index.pyx:176\u001b[0m, in \u001b[0;36mpandas._libs.index.IndexEngine.get_loc\u001b[0;34m()\u001b[0m\n",
      "File \u001b[0;32mpandas/_libs/hashtable_class_helper.pxi:7080\u001b[0m, in \u001b[0;36mpandas._libs.hashtable.PyObjectHashTable.get_item\u001b[0;34m()\u001b[0m\n",
      "File \u001b[0;32mpandas/_libs/hashtable_class_helper.pxi:7088\u001b[0m, in \u001b[0;36mpandas._libs.hashtable.PyObjectHashTable.get_item\u001b[0;34m()\u001b[0m\n",
      "\u001b[0;31mKeyError\u001b[0m: 'source'",
      "\nThe above exception was the direct cause of the following exception:\n",
      "\u001b[0;31mKeyError\u001b[0m                                  Traceback (most recent call last)",
      "Cell \u001b[0;32mIn[68], line 5\u001b[0m\n\u001b[1;32m      2\u001b[0m data\u001b[38;5;241m.\u001b[39mdrop([\u001b[38;5;124m'\u001b[39m\u001b[38;5;124mItem_Type\u001b[39m\u001b[38;5;124m'\u001b[39m,\u001b[38;5;124m'\u001b[39m\u001b[38;5;124mOutlet_Establishment_Year\u001b[39m\u001b[38;5;124m'\u001b[39m],axis\u001b[38;5;241m=\u001b[39m\u001b[38;5;241m1\u001b[39m,inplace\u001b[38;5;241m=\u001b[39m\u001b[38;5;28;01mTrue\u001b[39;00m)\n\u001b[1;32m      4\u001b[0m \u001b[38;5;66;03m#Divide into test and train:\u001b[39;00m\n\u001b[0;32m----> 5\u001b[0m train \u001b[38;5;241m=\u001b[39m data\u001b[38;5;241m.\u001b[39mloc[\u001b[43mdata\u001b[49m\u001b[43m[\u001b[49m\u001b[38;5;124;43m'\u001b[39;49m\u001b[38;5;124;43msource\u001b[39;49m\u001b[38;5;124;43m'\u001b[39;49m\u001b[43m]\u001b[49m\u001b[38;5;241m==\u001b[39m\u001b[38;5;124m\"\u001b[39m\u001b[38;5;124mtrain\u001b[39m\u001b[38;5;124m\"\u001b[39m]\n\u001b[1;32m      6\u001b[0m test \u001b[38;5;241m=\u001b[39m data\u001b[38;5;241m.\u001b[39mloc[data[\u001b[38;5;124m'\u001b[39m\u001b[38;5;124msource\u001b[39m\u001b[38;5;124m'\u001b[39m]\u001b[38;5;241m==\u001b[39m\u001b[38;5;124m\"\u001b[39m\u001b[38;5;124mtest\u001b[39m\u001b[38;5;124m\"\u001b[39m]\n\u001b[1;32m      8\u001b[0m \u001b[38;5;66;03m#Drop unnecessary columns:\u001b[39;00m\n",
      "File \u001b[0;32m/Library/Frameworks/Python.framework/Versions/3.11/lib/python3.11/site-packages/pandas/core/frame.py:3761\u001b[0m, in \u001b[0;36mDataFrame.__getitem__\u001b[0;34m(self, key)\u001b[0m\n\u001b[1;32m   3759\u001b[0m \u001b[39mif\u001b[39;00m \u001b[39mself\u001b[39m\u001b[39m.\u001b[39mcolumns\u001b[39m.\u001b[39mnlevels \u001b[39m>\u001b[39m \u001b[39m1\u001b[39m:\n\u001b[1;32m   3760\u001b[0m     \u001b[39mreturn\u001b[39;00m \u001b[39mself\u001b[39m\u001b[39m.\u001b[39m_getitem_multilevel(key)\n\u001b[0;32m-> 3761\u001b[0m indexer \u001b[39m=\u001b[39m \u001b[39mself\u001b[39;49m\u001b[39m.\u001b[39;49mcolumns\u001b[39m.\u001b[39;49mget_loc(key)\n\u001b[1;32m   3762\u001b[0m \u001b[39mif\u001b[39;00m is_integer(indexer):\n\u001b[1;32m   3763\u001b[0m     indexer \u001b[39m=\u001b[39m [indexer]\n",
      "File \u001b[0;32m/Library/Frameworks/Python.framework/Versions/3.11/lib/python3.11/site-packages/pandas/core/indexes/base.py:3654\u001b[0m, in \u001b[0;36mIndex.get_loc\u001b[0;34m(self, key)\u001b[0m\n\u001b[1;32m   3652\u001b[0m     \u001b[39mreturn\u001b[39;00m \u001b[39mself\u001b[39m\u001b[39m.\u001b[39m_engine\u001b[39m.\u001b[39mget_loc(casted_key)\n\u001b[1;32m   3653\u001b[0m \u001b[39mexcept\u001b[39;00m \u001b[39mKeyError\u001b[39;00m \u001b[39mas\u001b[39;00m err:\n\u001b[0;32m-> 3654\u001b[0m     \u001b[39mraise\u001b[39;00m \u001b[39mKeyError\u001b[39;00m(key) \u001b[39mfrom\u001b[39;00m \u001b[39merr\u001b[39;00m\n\u001b[1;32m   3655\u001b[0m \u001b[39mexcept\u001b[39;00m \u001b[39mTypeError\u001b[39;00m:\n\u001b[1;32m   3656\u001b[0m     \u001b[39m# If we have a listlike key, _check_indexing_error will raise\u001b[39;00m\n\u001b[1;32m   3657\u001b[0m     \u001b[39m#  InvalidIndexError. Otherwise we fall through and re-raise\u001b[39;00m\n\u001b[1;32m   3658\u001b[0m     \u001b[39m#  the TypeError.\u001b[39;00m\n\u001b[1;32m   3659\u001b[0m     \u001b[39mself\u001b[39m\u001b[39m.\u001b[39m_check_indexing_error(key)\n",
      "\u001b[0;31mKeyError\u001b[0m: 'source'"
     ]
    }
   ],
   "source": [
    "#Drop the columns which have been converted to different types:\n",
    "data.drop(['Item_Type','Outlet_Establishment_Year'],axis=1,inplace=True)\n",
    "\n",
    "#Divide into test and train:\n",
    "train = data.loc[data['source']==\"train\"]\n",
    "test = data.loc[data['source']==\"test\"]\n",
    "\n",
    "#Drop unnecessary columns:\n",
    "test.drop(['Item_Outlet_Sales','source'],axis=1,inplace=True)\n",
    "train.drop(['source'],axis=1,inplace=True)\n",
    "\n",
    "#Export files as modified versions:\n",
    "train.to_csv(\"train_modified.csv\",index=False)\n",
    "test.to_csv(\"test_modified.csv\",index=False)"
   ]
  },
  {
   "cell_type": "code",
   "execution_count": null,
   "metadata": {},
   "outputs": [],
   "source": []
  }
 ],
 "metadata": {
  "kernelspec": {
   "display_name": "Python 3.11.0 64-bit",
   "language": "python",
   "name": "python3"
  },
  "language_info": {
   "codemirror_mode": {
    "name": "ipython",
    "version": 3
   },
   "file_extension": ".py",
   "mimetype": "text/x-python",
   "name": "python",
   "nbconvert_exporter": "python",
   "pygments_lexer": "ipython3",
   "version": "3.11.0"
  },
  "orig_nbformat": 4,
  "vscode": {
   "interpreter": {
    "hash": "aee8b7b246df8f9039afb4144a1f6fd8d2ca17a180786b69acc140d282b71a49"
   }
  }
 },
 "nbformat": 4,
 "nbformat_minor": 2
}
